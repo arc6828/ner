{
 "cells": [
  {
   "cell_type": "code",
   "execution_count": 1,
   "metadata": {},
   "outputs": [
    {
     "name": "stdout",
     "output_type": "stream",
     "text": [
      "Hello World\n"
     ]
    }
   ],
   "source": [
    "print(\"Hello World\")"
   ]
  },
  {
   "cell_type": "code",
   "execution_count": 4,
   "metadata": {},
   "outputs": [],
   "source": [
    "from transformers import AutoTokenizer, AutoModelForTokenClassification\n",
    "from transformers import pipeline"
   ]
  },
  {
   "cell_type": "code",
   "execution_count": 6,
   "metadata": {},
   "outputs": [
    {
     "name": "stderr",
     "output_type": "stream",
     "text": [
      "Downloading: 100%|██████████| 1.11G/1.11G [02:47<00:00, 6.64MB/s]  \n"
     ]
    }
   ],
   "source": [
    "tokenizer = AutoTokenizer.from_pretrained(\"Davlan/xlm-roberta-base-ner-hrl\")\n",
    "model = AutoModelForTokenClassification.from_pretrained(\"Davlan/xlm-roberta-base-ner-hrl\")\n",
    "nlp = pipeline(\"ner\", model=model, tokenizer=tokenizer)"
   ]
  },
  {
   "cell_type": "code",
   "execution_count": 7,
   "metadata": {},
   "outputs": [
    {
     "name": "stdout",
     "output_type": "stream",
     "text": [
      "[{'entity': 'B-PER', 'score': 0.9993357, 'index': 4, 'word': '▁Wolfgang', 'start': 10, 'end': 19}, {'entity': 'B-LOC', 'score': 0.9990395, 'index': 9, 'word': '▁Berlin', 'start': 33, 'end': 40}]\n"
     ]
    }
   ],
   "source": [
    "example = \"My name is Wolfgang and I live in Berlin\"\n",
    "\n",
    "ner_results = nlp(example)\n",
    "print(ner_results)"
   ]
  },
  {
   "cell_type": "code",
   "execution_count": 74,
   "metadata": {},
   "outputs": [],
   "source": [
    "import re\n",
    "def post_process(preds):\n",
    "    data = []\n",
    "    for i in range(len(preds)): \n",
    "        a = preds[i]\n",
    "        text = a.get('word')\n",
    "        entity = a.get('entity')\n",
    "        for j in range(i+1, len(preds)):\n",
    "            b = preds[j]\n",
    "            if b.get('start') == a.get('end'):\n",
    "                text += b.get('word')\n",
    "                a = b\n",
    "        if \"B-\" in entity:  \n",
    "            data.append({\n",
    "                'type': entity,\n",
    "                'text': text\n",
    "            })\n",
    "    tmp = []\n",
    "    for elm in data:\n",
    "        text = elm.get('text')\n",
    "        if bool(re.match(\"[ก-๛]|▁\", text)):\n",
    "            elm.update({'text': text.replace('▁', ' ')})\n",
    "            tmp.append(elm)\n",
    "    return tmp"
   ]
  },
  {
   "cell_type": "code",
   "execution_count": 75,
   "metadata": {},
   "outputs": [
    {
     "data": {
      "text/plain": [
       "[{'type': 'B-PER', 'text': ' ประยุทธ์ จันทร์โอชา'},\n",
       " {'type': 'B-PER', 'text': 'ประยุทธ์ จันทร์โอชา'},\n",
       " {'type': 'B-PER', 'text': ' ตู่'},\n",
       " {'type': 'B-PER', 'text': 'ตู่'},\n",
       " {'type': 'B-ORG', 'text': 'กระทรวงกลาโหม'},\n",
       " {'type': 'B-LOC', 'text': 'ไทย'},\n",
       " {'type': 'B-ORG', 'text': 'คณะรักษาความสงบแห่งชาติ'},\n",
       " {'type': 'B-LOC', 'text': 'ในประเทศไทย'},\n",
       " {'type': 'B-LOC', 'text': 'ประเทศไทย'},\n",
       " {'type': 'B-LOC', 'text': 'ไทย'},\n",
       " {'type': 'B-ORG', 'text': 'เตรียมทหาร'},\n",
       " {'type': 'B-ORG', 'text': 'นาย'},\n",
       " {'type': 'B-ORG', 'text': 'พระจุลจอมเกล้า'},\n",
       " {'type': 'B-ORG', 'text': 'วิทยาลัยป้องกันราชอาณาจักร'},\n",
       " {'type': 'B-ORG', 'text': 'กรมทหารราบที่ 21'},\n",
       " {'type': 'B-ORG', 'text': 'กองพลทหารราบที่ 2'},\n",
       " {'type': 'B-ORG', 'text': 'ทหารบก'},\n",
       " {'type': 'B-PER', 'text': ' ทักษิณ ชินวัตร'},\n",
       " {'type': 'B-PER', 'text': 'ทักษิณ ชินวัตร'},\n",
       " {'type': 'B-PER', 'text': 'ยิ่งลักษณ์'},\n",
       " {'type': 'B-PER', 'text': 'ยิ่งลักษณ์'},\n",
       " {'type': 'B-PER', 'text': 'ประยุทธ์'},\n",
       " {'type': 'B-PER', 'text': ' สุเทพ เทือกสุบรรณ'},\n",
       " {'type': 'B-PER', 'text': 'สุเทพ เทือกสุบรรณ'},\n",
       " {'type': 'B-PER', 'text': 'ประยุทธ์'},\n",
       " {'type': 'B-PER', 'text': 'ทักษิณ'},\n",
       " {'type': 'B-ORG', 'text': 'สภานิติบัญญัติแห่งชาติ'},\n",
       " {'type': 'B-ORG', 'text': ' คสช.'},\n",
       " {'type': 'B-ORG', 'text': ' คสช.'},\n",
       " {'type': 'B-LOC', 'text': 'ในประเทศไทย'},\n",
       " {'type': 'B-PER', 'text': 'โควิด'}]"
      ]
     },
     "execution_count": 75,
     "metadata": {},
     "output_type": "execute_result"
    }
   ],
   "source": [
    "post_process(ner_results)"
   ]
  },
  {
   "cell_type": "code",
   "execution_count": 76,
   "metadata": {},
   "outputs": [
    {
     "name": "stdout",
     "output_type": "stream",
     "text": [
      "[{'entity': 'B-PER', 'score': 0.99982184, 'index': 4, 'word': '▁', 'start': 5, 'end': 6}, {'entity': 'B-PER', 'score': 0.9971306, 'index': 5, 'word': 'ประ', 'start': 6, 'end': 9}, {'entity': 'I-PER', 'score': 0.99844825, 'index': 6, 'word': 'ยุทธ', 'start': 9, 'end': 13}, {'entity': 'I-PER', 'score': 0.99848807, 'index': 7, 'word': '์', 'start': 13, 'end': 14}, {'entity': 'I-PER', 'score': 0.9997346, 'index': 8, 'word': '▁', 'start': 14, 'end': 15}, {'entity': 'I-PER', 'score': 0.99944896, 'index': 9, 'word': 'จันทร์', 'start': 15, 'end': 21}, {'entity': 'I-PER', 'score': 0.9998072, 'index': 10, 'word': 'โอ', 'start': 21, 'end': 23}, {'entity': 'I-PER', 'score': 0.9997657, 'index': 11, 'word': 'ชา', 'start': 23, 'end': 25}, {'entity': 'B-PER', 'score': 0.99884856, 'index': 15, 'word': '▁', 'start': 35, 'end': 36}, {'entity': 'B-PER', 'score': 0.9941605, 'index': 16, 'word': 'ตู', 'start': 36, 'end': 38}, {'entity': 'I-PER', 'score': 0.9832425, 'index': 17, 'word': '่', 'start': 38, 'end': 39}, {'entity': 'B-ORG', 'score': 0.95361114, 'index': 45, 'word': 'กระทรวง', 'start': 139, 'end': 146}, {'entity': 'I-ORG', 'score': 0.9271702, 'index': 46, 'word': 'ก', 'start': 146, 'end': 147}, {'entity': 'I-ORG', 'score': 0.99814606, 'index': 47, 'word': 'ลา', 'start': 147, 'end': 149}, {'entity': 'I-ORG', 'score': 0.9989925, 'index': 48, 'word': 'โห', 'start': 149, 'end': 151}, {'entity': 'I-ORG', 'score': 0.99869823, 'index': 49, 'word': 'ม', 'start': 151, 'end': 152}, {'entity': 'B-LOC', 'score': 0.95302284, 'index': 51, 'word': 'ไทย', 'start': 155, 'end': 158}, {'entity': 'B-ORG', 'score': 0.9996346, 'index': 58, 'word': 'คณะ', 'start': 183, 'end': 186}, {'entity': 'I-ORG', 'score': 0.99953985, 'index': 59, 'word': 'รักษา', 'start': 186, 'end': 191}, {'entity': 'I-ORG', 'score': 0.9996505, 'index': 60, 'word': 'ความ', 'start': 191, 'end': 195}, {'entity': 'I-ORG', 'score': 0.99954504, 'index': 61, 'word': 'สงบ', 'start': 195, 'end': 198}, {'entity': 'I-ORG', 'score': 0.99938905, 'index': 62, 'word': 'แห่งชาติ', 'start': 198, 'end': 206}, {'entity': 'B-LOC', 'score': 0.8024267, 'index': 68, 'word': 'ในประเทศไทย', 'start': 223, 'end': 234}, {'entity': 'B-LOC', 'score': 0.99299014, 'index': 82, 'word': 'ประเทศไทย', 'start': 273, 'end': 282}, {'entity': 'I-ORG', 'score': 0.59153366, 'index': 104, 'word': 'บก', 'start': 337, 'end': 339}, {'entity': 'B-LOC', 'score': 0.96250427, 'index': 106, 'word': 'ไทย', 'start': 342, 'end': 345}, {'entity': 'B-ORG', 'score': 0.8579116, 'index': 110, 'word': 'เตรียม', 'start': 362, 'end': 368}, {'entity': 'I-ORG', 'score': 0.8670044, 'index': 111, 'word': 'ทหาร', 'start': 368, 'end': 372}, {'entity': 'B-ORG', 'score': 0.5082997, 'index': 117, 'word': 'นาย', 'start': 391, 'end': 394}, {'entity': 'B-ORG', 'score': 0.6564941, 'index': 119, 'word': 'พระ', 'start': 398, 'end': 401}, {'entity': 'I-ORG', 'score': 0.6275266, 'index': 120, 'word': 'จุ', 'start': 401, 'end': 403}, {'entity': 'I-ORG', 'score': 0.8639851, 'index': 121, 'word': 'ล', 'start': 403, 'end': 404}, {'entity': 'I-ORG', 'score': 0.7790219, 'index': 122, 'word': 'จอม', 'start': 404, 'end': 407}, {'entity': 'I-ORG', 'score': 0.6938305, 'index': 123, 'word': 'เกล้า', 'start': 407, 'end': 412}, {'entity': 'B-ORG', 'score': 0.99870026, 'index': 131, 'word': 'วิทยาลัย', 'start': 439, 'end': 447}, {'entity': 'I-ORG', 'score': 0.9978231, 'index': 132, 'word': 'ป้องกัน', 'start': 447, 'end': 454}, {'entity': 'I-ORG', 'score': 0.9984566, 'index': 133, 'word': 'ราช', 'start': 454, 'end': 457}, {'entity': 'I-ORG', 'score': 0.99826705, 'index': 134, 'word': 'อาณาจักร', 'start': 457, 'end': 465}, {'entity': 'B-ORG', 'score': 0.9799605, 'index': 140, 'word': 'กรม', 'start': 490, 'end': 493}, {'entity': 'I-ORG', 'score': 0.98861545, 'index': 141, 'word': 'ทหาร', 'start': 493, 'end': 497}, {'entity': 'I-ORG', 'score': 0.9835808, 'index': 142, 'word': 'ราบ', 'start': 497, 'end': 500}, {'entity': 'I-ORG', 'score': 0.94386345, 'index': 143, 'word': 'ที่', 'start': 500, 'end': 503}, {'entity': 'I-ORG', 'score': 0.9615783, 'index': 144, 'word': '▁21', 'start': 503, 'end': 506}, {'entity': 'B-ORG', 'score': 0.9801194, 'index': 152, 'word': 'กอง', 'start': 547, 'end': 550}, {'entity': 'I-ORG', 'score': 0.992786, 'index': 153, 'word': 'พล', 'start': 550, 'end': 552}, {'entity': 'I-ORG', 'score': 0.9906138, 'index': 154, 'word': 'ทหาร', 'start': 552, 'end': 556}, {'entity': 'I-ORG', 'score': 0.9837157, 'index': 155, 'word': 'ราบ', 'start': 556, 'end': 559}, {'entity': 'I-ORG', 'score': 0.9313943, 'index': 156, 'word': 'ที่', 'start': 559, 'end': 562}, {'entity': 'I-ORG', 'score': 0.96543515, 'index': 157, 'word': '▁2', 'start': 562, 'end': 564}, {'entity': 'I-ORG', 'score': 0.5011197, 'index': 169, 'word': 'บู', 'start': 617, 'end': 619}, {'entity': 'I-ORG', 'score': 0.6231332, 'index': 179, 'word': 'เสือ', 'start': 635, 'end': 639}, {'entity': 'I-ORG', 'score': 0.43554577, 'index': 180, 'word': 'รา', 'start': 639, 'end': 641}, {'entity': 'I-ORG', 'score': 0.4461279, 'index': 181, 'word': 'ชิ', 'start': 641, 'end': 643}, {'entity': 'I-PER', 'score': 0.47594377, 'index': 182, 'word': 'นี', 'start': 643, 'end': 645}, {'entity': 'B-ORG', 'score': 0.779909, 'index': 189, 'word': 'ทหาร', 'start': 668, 'end': 672}, {'entity': 'I-ORG', 'score': 0.83518666, 'index': 190, 'word': 'บก', 'start': 672, 'end': 674}, {'entity': 'B-PER', 'score': 0.99981123, 'index': 223, 'word': '▁', 'start': 805, 'end': 806}, {'entity': 'B-PER', 'score': 0.99691725, 'index': 224, 'word': 'ทักษิณ', 'start': 806, 'end': 812}, {'entity': 'I-PER', 'score': 0.99973005, 'index': 225, 'word': '▁', 'start': 812, 'end': 813}, {'entity': 'I-PER', 'score': 0.9997454, 'index': 226, 'word': 'ชิน', 'start': 813, 'end': 816}, {'entity': 'I-PER', 'score': 0.9998323, 'index': 227, 'word': 'วั', 'start': 816, 'end': 818}, {'entity': 'I-PER', 'score': 0.999747, 'index': 228, 'word': 'ตร', 'start': 818, 'end': 820}, {'entity': 'B-PER', 'score': 0.99928975, 'index': 308, 'word': 'ยิ่ง', 'start': 1063, 'end': 1067}, {'entity': 'I-PER', 'score': 0.99950504, 'index': 309, 'word': 'ลักษณ์', 'start': 1067, 'end': 1073}, {'entity': 'B-PER', 'score': 0.9988288, 'index': 341, 'word': 'ยิ่ง', 'start': 1181, 'end': 1185}, {'entity': 'I-PER', 'score': 0.9990796, 'index': 342, 'word': 'ลักษณ์', 'start': 1185, 'end': 1191}, {'entity': 'B-PER', 'score': 0.9938198, 'index': 365, 'word': 'ประ', 'start': 1276, 'end': 1279}, {'entity': 'I-PER', 'score': 0.98097897, 'index': 366, 'word': 'ยุทธ', 'start': 1279, 'end': 1283}, {'entity': 'I-PER', 'score': 0.7562392, 'index': 367, 'word': '์', 'start': 1283, 'end': 1284}, {'entity': 'B-PER', 'score': 0.99971074, 'index': 372, 'word': '▁', 'start': 1296, 'end': 1297}, {'entity': 'B-PER', 'score': 0.9996444, 'index': 373, 'word': 'สุ', 'start': 1297, 'end': 1299}, {'entity': 'I-PER', 'score': 0.9977035, 'index': 374, 'word': 'เทพ', 'start': 1299, 'end': 1302}, {'entity': 'I-PER', 'score': 0.9989588, 'index': 375, 'word': '▁', 'start': 1302, 'end': 1303}, {'entity': 'I-PER', 'score': 0.99772376, 'index': 376, 'word': 'เท', 'start': 1303, 'end': 1305}, {'entity': 'I-PER', 'score': 0.9975756, 'index': 377, 'word': 'ือก', 'start': 1305, 'end': 1308}, {'entity': 'I-PER', 'score': 0.99175465, 'index': 378, 'word': 'สุ', 'start': 1308, 'end': 1310}, {'entity': 'I-PER', 'score': 0.9971295, 'index': 379, 'word': 'บรร', 'start': 1310, 'end': 1313}, {'entity': 'I-PER', 'score': 0.9978855, 'index': 380, 'word': 'ณ', 'start': 1313, 'end': 1314}, {'entity': 'B-PER', 'score': 0.99972194, 'index': 386, 'word': 'ประ', 'start': 1330, 'end': 1333}, {'entity': 'I-PER', 'score': 0.9954241, 'index': 387, 'word': 'ยุทธ', 'start': 1333, 'end': 1337}, {'entity': 'I-PER', 'score': 0.9907362, 'index': 388, 'word': '์', 'start': 1337, 'end': 1338}, {'entity': 'B-PER', 'score': 0.9979728, 'index': 392, 'word': 'ทักษิณ', 'start': 1348, 'end': 1354}, {'entity': 'B-ORG', 'score': 0.99913245, 'index': 404, 'word': 'สภา', 'start': 1400, 'end': 1403}, {'entity': 'I-ORG', 'score': 0.9994373, 'index': 405, 'word': 'นิติ', 'start': 1403, 'end': 1407}, {'entity': 'I-ORG', 'score': 0.99945873, 'index': 406, 'word': 'บ', 'start': 1407, 'end': 1408}, {'entity': 'I-ORG', 'score': 0.99949515, 'index': 407, 'word': 'ัญ', 'start': 1408, 'end': 1410}, {'entity': 'I-ORG', 'score': 0.99948287, 'index': 408, 'word': 'ญ', 'start': 1410, 'end': 1411}, {'entity': 'I-ORG', 'score': 0.99922764, 'index': 409, 'word': 'ั', 'start': 1411, 'end': 1412}, {'entity': 'I-ORG', 'score': 0.9990854, 'index': 410, 'word': 'ติ', 'start': 1412, 'end': 1414}, {'entity': 'I-ORG', 'score': 0.998787, 'index': 411, 'word': 'แห่งชาติ', 'start': 1414, 'end': 1422}, {'entity': 'B-ORG', 'score': 0.99952924, 'index': 426, 'word': '▁ค', 'start': 1480, 'end': 1482}, {'entity': 'I-ORG', 'score': 0.9972562, 'index': 427, 'word': 'ส', 'start': 1482, 'end': 1483}, {'entity': 'I-ORG', 'score': 0.999458, 'index': 428, 'word': 'ช', 'start': 1483, 'end': 1484}, {'entity': 'I-ORG', 'score': 0.99655056, 'index': 429, 'word': '.', 'start': 1484, 'end': 1485}, {'entity': 'B-ORG', 'score': 0.9931392, 'index': 434, 'word': '▁ค', 'start': 1503, 'end': 1505}, {'entity': 'I-ORG', 'score': 0.9712814, 'index': 435, 'word': 'ส', 'start': 1505, 'end': 1506}, {'entity': 'I-ORG', 'score': 0.99734664, 'index': 436, 'word': 'ช', 'start': 1506, 'end': 1507}, {'entity': 'I-ORG', 'score': 0.5506339, 'index': 437, 'word': '.', 'start': 1507, 'end': 1508}, {'entity': 'B-LOC', 'score': 0.9214007, 'index': 466, 'word': 'ในประเทศไทย', 'start': 1618, 'end': 1629}, {'entity': 'B-PER', 'score': 0.6506619, 'index': 498, 'word': 'โค', 'start': 1751, 'end': 1753}, {'entity': 'I-PER', 'score': 0.30595857, 'index': 499, 'word': 'วิ', 'start': 1753, 'end': 1755}, {'entity': 'I-ORG', 'score': 0.2918094, 'index': 500, 'word': 'ด', 'start': 1755, 'end': 1756}]\n"
     ]
    }
   ],
   "source": [
    "example = \"\"\"พลเอก ประยุทธ์ จันทร์โอชา (ชื่อเล่น ตู่; เกิด 21 มีนาคม พ.ศ. 2497) เป็นนักการเมืองและทหารบกชาวไทย นายกรัฐมนตรีไทยคนที่ 29 และรัฐมนตรีว่าการกระทรวงกลาโหมของไทยคนปัจจุบัน เคยเป็นหัวหน้าคณะรักษาความสงบแห่งชาติ ซึ่งก่อรัฐประหารในประเทศไทย พ.ศ. 2557 และเป็นคณะรัฐประหารที่ปกครองประเทศไทย ตั้งแต่ปี พ.ศ. 2557 ถึงปี พ.ศ. 2562 และผู้บัญชาการทหารบกของไทย\n",
    "\n",
    "เขาเป็นนักเรียนเตรียมทหารรุ่นที่ 12 นักเรียนนายร้อยพระจุลจอมเกล้ารุ่นที่ 23 และเป็นศิษย์เก่าวิทยาลัยป้องกันราชอาณาจักร เข้ารับราชการครั้งแรกที่กรมทหารราบที่ 21 รักษาพระองค์ จากนั้นได้รับราชการในสังกัดกองพลทหารราบที่ 2 รักษาพระองค์ตามลำดับ นอกจากนั้นเขายังอยู่ในกลุ่มทหารบูรพาพยัคฆ์และทหารเสือราชินี เขาเป็นอดีตผู้บัญชาการทหารบกซึ่งดำรงตำแหน่งระหว่างเดือนตุลาคม 2553 ถึงตุลาคม 2557 หลังการแต่งตั้ง เขามีลักษณะนิยมเจ้าอย่างเข้มข้น และปรปักษ์ของอดีตนายกรัฐมนตรี ทักษิณ ชินวัตร ถือได้ว่าเขาเป็นสายแข็ง (hardliner) ในกองทัพ เป็นผู้สนับสนุนแนวหน้าของการสลายการชุมนุมของคนเสื้อแดงในเดือนเมษายน 2552 และเมษายน–พฤษภาคม 2553[2] ต่อมาเขามุ่งวางตนเป็นกลาง โดยพูดคุยกับญาติผู้ประท้วงที่เสียชีวิตในเหตุการณ์[3] และร่วมมือกับรัฐบาลยิ่งลักษณ์[4] ซึ่งชนะการเลือกตั้งในเดือนกรกฎาคม 2554 ระหว่างวิกฤตการณ์การเมืองซึ่งเริ่มในเดือนพฤศจิกายน 2556 ต่อรัฐบาลยิ่งลักษณ์ เขาอ้างว่ากองทัพเป็นกลาง[5] และจะไม่รัฐประหาร ทว่า เมื่อวันที่ 22 พฤษภาคม 2557 พลเอกประยุทธ์รัฐประหาร[6] สุเทพ เทือกสุบรรณเปิดเผยว่า ตนกับประยุทธ์วางแผนโค่นทักษิณด้วยตั้งแต่ปี 2553[7]\n",
    "\n",
    "วันที่ 21 สิงหาคม 2557 สภานิติบัญญัติแห่งชาติมีมติเอกฉันท์เลือกเขาเป็นนายกรัฐมนตรี ซึ่งสมาชิกสภานั้นถูก คสช. เลือกมาทั้งหมด[8] คสช. สั่งปราบปรามผู้เห็นแย้ง ห้ามการอภิปรายสาธารณะเกี่ยวกับประชาธิปไตยและการวิจารณ์รัฐบาล จำกัดเสรีภาพในการแสดงออกในประเทศไทยอย่างหนัก[9] ในปี 2562 รัฐสภาลงมติเลือกเขาเป็นนายกรัฐมนตรีอีกสมัย ในวาระที่สอง เขาถูกวิจารณ์ในเรื่องการจัดการกับผลกระทบของโควิด-19 การกู้เงินจำนวนมาก ตลอดจนการละเมิดสิทธิมนุษยชนต่าง ๆ\"\"\"\n",
    "# example = \"เราจะไปเดินเล่นที่หนองคาย\"\n",
    "\n",
    "ner_results = nlp(example)\n",
    "print(ner_results)"
   ]
  },
  {
   "cell_type": "code",
   "execution_count": 77,
   "metadata": {},
   "outputs": [],
   "source": [
    "# import re\n",
    "# import functools\n",
    "# def merge(acc, n):\n",
    "#     print()\n",
    "#     acc[\"word\"] += n\n",
    "\n",
    "# def summary(words):\n",
    "#     data = []\n",
    "#     words = map(lambda x: x, words)\n",
    "#     for i in range(len(words)): \n",
    "#         item = words[i]\n",
    "#         word = item.get('word')\n",
    "#         entity = item.get('entity')\n",
    "#         start = item.get('start')\n",
    "#         end = item.get('end')\n",
    "#         # SKIP if not contain B-\n",
    "#         if \"B-\" not in entity:\n",
    "#             continue\n",
    "#         # FROM i until last word\n",
    "#         input_list = word[i+1:] \n",
    "#         output = functools.reduce(lambda acc, n : merge(acc,n), input_list, {\"word\":word,\"\":[entity], \"end\":start , \"end\":end})\n",
    "#     #     for j in range(i+1, len(words)):\n",
    "#     #         b = words[j]\n",
    "#     #         if b.get('start') == a.get('end'):\n",
    "#     #             text += b.get('word')\n",
    "#     #             a = b\n",
    "#     #     data.append({\n",
    "#     #         'type': a.get('entity'),\n",
    "#     #         'text': text\n",
    "#     #     })\n",
    "#     # tmp = []\n",
    "#     # for elm in data:\n",
    "#     #     text = elm.get('text')\n",
    "#     #     if bool(re.match(\"[ก-๛]|▁\", text)):\n",
    "#     #         elm.update({'text': text.replace('▁', ' ')})\n",
    "#     #         tmp.append(elm)\n",
    "#     # return tmp"
   ]
  },
  {
   "cell_type": "code",
   "execution_count": 78,
   "metadata": {},
   "outputs": [
    {
     "data": {
      "text/plain": [
       "[{'type': 'B-PER', 'text': ' ประยุทธ์ จันทร์โอชา'},\n",
       " {'type': 'B-PER', 'text': 'ประยุทธ์ จันทร์โอชา'},\n",
       " {'type': 'B-PER', 'text': ' ตู่'},\n",
       " {'type': 'B-PER', 'text': 'ตู่'},\n",
       " {'type': 'B-ORG', 'text': 'กระทรวงกลาโหม'},\n",
       " {'type': 'B-LOC', 'text': 'ไทย'},\n",
       " {'type': 'B-ORG', 'text': 'คณะรักษาความสงบแห่งชาติ'},\n",
       " {'type': 'B-LOC', 'text': 'ในประเทศไทย'},\n",
       " {'type': 'B-LOC', 'text': 'ประเทศไทย'},\n",
       " {'type': 'B-LOC', 'text': 'ไทย'},\n",
       " {'type': 'B-ORG', 'text': 'เตรียมทหาร'},\n",
       " {'type': 'B-ORG', 'text': 'นาย'},\n",
       " {'type': 'B-ORG', 'text': 'พระจุลจอมเกล้า'},\n",
       " {'type': 'B-ORG', 'text': 'วิทยาลัยป้องกันราชอาณาจักร'},\n",
       " {'type': 'B-ORG', 'text': 'กรมทหารราบที่ 21'},\n",
       " {'type': 'B-ORG', 'text': 'กองพลทหารราบที่ 2'},\n",
       " {'type': 'B-ORG', 'text': 'ทหารบก'},\n",
       " {'type': 'B-PER', 'text': ' ทักษิณ ชินวัตร'},\n",
       " {'type': 'B-PER', 'text': 'ทักษิณ ชินวัตร'},\n",
       " {'type': 'B-PER', 'text': 'ยิ่งลักษณ์'},\n",
       " {'type': 'B-PER', 'text': 'ยิ่งลักษณ์'},\n",
       " {'type': 'B-PER', 'text': 'ประยุทธ์'},\n",
       " {'type': 'B-PER', 'text': ' สุเทพ เทือกสุบรรณ'},\n",
       " {'type': 'B-PER', 'text': 'สุเทพ เทือกสุบรรณ'},\n",
       " {'type': 'B-PER', 'text': 'ประยุทธ์'},\n",
       " {'type': 'B-PER', 'text': 'ทักษิณ'},\n",
       " {'type': 'B-ORG', 'text': 'สภานิติบัญญัติแห่งชาติ'},\n",
       " {'type': 'B-ORG', 'text': ' คสช.'},\n",
       " {'type': 'B-ORG', 'text': ' คสช.'},\n",
       " {'type': 'B-LOC', 'text': 'ในประเทศไทย'},\n",
       " {'type': 'B-PER', 'text': 'โควิด'}]"
      ]
     },
     "execution_count": 78,
     "metadata": {},
     "output_type": "execute_result"
    }
   ],
   "source": [
    "data = post_process(ner_results)\n",
    "# data = summary(ner_results)\n",
    "data"
   ]
  },
  {
   "cell_type": "code",
   "execution_count": 79,
   "metadata": {},
   "outputs": [],
   "source": [
    "import json\n",
    "with open(\"sample.json\", \"w\", encoding='utf-8') as outfile:\n",
    "    json.dump(data, outfile,ensure_ascii=False, indent=2)"
   ]
  }
 ],
 "metadata": {
  "kernelspec": {
   "display_name": "Python 3.10.2 ('ner': venv)",
   "language": "python",
   "name": "python3"
  },
  "language_info": {
   "codemirror_mode": {
    "name": "ipython",
    "version": 3
   },
   "file_extension": ".py",
   "mimetype": "text/x-python",
   "name": "python",
   "nbconvert_exporter": "python",
   "pygments_lexer": "ipython3",
   "version": "3.10.2"
  },
  "orig_nbformat": 4,
  "vscode": {
   "interpreter": {
    "hash": "191a7e9e0384c7c4510c0fd835f5fd6bdfe6c3de9cd97007d1878fe8e4a1625b"
   }
  }
 },
 "nbformat": 4,
 "nbformat_minor": 2
}
